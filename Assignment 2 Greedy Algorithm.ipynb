{
 "cells": [
  {
   "cell_type": "code",
   "execution_count": 4,
   "id": "0fe3b20c",
   "metadata": {},
   "outputs": [
    {
     "name": "stdout",
     "output_type": "stream",
     "text": [
      "Enter Size of your List : 5\n",
      "Enter Elements in your List : 9\n",
      "Enter Elements in your List : 5\n",
      "Enter Elements in your List : 6\n",
      "Enter Elements in your List : 1\n",
      "Enter Elements in your List : 23\n",
      "['9', '6', '5', '23', '1']\n"
     ]
    }
   ],
   "source": [
    "# Implementing Selection Sort \n",
    "List = []\n",
    "size = int(input(\"Enter Size of your List : \"))\n",
    "for i in range (size):\n",
    "    element = input(\"Enter Elements in your List : \")\n",
    "    List.append(element)\n",
    "    \n",
    "def selection_sort (List):\n",
    "    for i in range (len(List)):\n",
    "        max = i\n",
    "        for j in range (i+1, len(List)):\n",
    "            if List[i]>List[j]:\n",
    "                max = j\n",
    "                \n",
    "            List[max], List[j] = List[j], List[max]\n",
    "            \n",
    "selection_sort(List)\n",
    "print(List)"
   ]
  },
  {
   "cell_type": "code",
   "execution_count": null,
   "id": "47e27b51",
   "metadata": {},
   "outputs": [],
   "source": [
    "7\n",
    "8\n",
    "9\n"
   ]
  }
 ],
 "metadata": {
  "kernelspec": {
   "display_name": "Python 3 (ipykernel)",
   "language": "python",
   "name": "python3"
  },
  "language_info": {
   "codemirror_mode": {
    "name": "ipython",
    "version": 3
   },
   "file_extension": ".py",
   "mimetype": "text/x-python",
   "name": "python",
   "nbconvert_exporter": "python",
   "pygments_lexer": "ipython3",
   "version": "3.9.12"
  }
 },
 "nbformat": 4,
 "nbformat_minor": 5
}
