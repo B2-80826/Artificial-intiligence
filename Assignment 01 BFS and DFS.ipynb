{
 "cells": [
  {
   "cell_type": "code",
   "execution_count": 13,
   "id": "d9266ce6",
   "metadata": {},
   "outputs": [
    {
     "name": "stdout",
     "output_type": "stream",
     "text": [
      "Breadth First Search Output is :  []\n",
      "R A B C D E F G H I J "
     ]
    }
   ],
   "source": [
    "#Implementing Breadth First Search \n",
    "graph = {\n",
    "    'R' : ['A','B'], # Starting point is from Root Node i.e R\n",
    "    'A' : ['C', 'D'], # From here successors are inserted\n",
    "    'C' : ['G'],\n",
    "    'G' : [],\n",
    "    'D' : ['H', 'I'],\n",
    "    'H' : [],\n",
    "    'I' : [],\n",
    "    'B' : ['E', 'F'],\n",
    "    'E' : [],\n",
    "    'F' : ['J'],\n",
    "    'J' : []\n",
    "}\n",
    "\n",
    "visited = []\n",
    "fringe = []\n",
    "\n",
    "def BFS(graph, visited, node): #BFS is Defined along with their elements\n",
    "    visited.append(node)\n",
    "    fringe.append(node)\n",
    "    \n",
    "    while fringe: #While Loop is inserted in order to pop the first starting node\n",
    "        m = fringe.pop(0)\n",
    "        print(m, end= ' ')\n",
    "        for nb in graph [m]: #For Loop is inserted in order to add the rest of the nodes\n",
    "            if nb not in visited:\n",
    "                visited.append(nb)\n",
    "                fringe.append(nb)\n",
    "                \n",
    "print('Breadth First Search Output is : ', visited)\n",
    "BFS(graph, visited, 'R')"
   ]
  },
  {
   "cell_type": "code",
   "execution_count": 6,
   "id": "5d55735e",
   "metadata": {},
   "outputs": [
    {
     "name": "stdout",
     "output_type": "stream",
     "text": [
      "Depth First Search Output is:  ['R', 'A', 'C', 'G', 'D', 'H', 'I', 'B', 'E', 'F', 'J']\n"
     ]
    }
   ],
   "source": [
    "#Implementing Depth First Search \n",
    "graph = {\n",
    "    'R' : ['A','B'],  # Starting point is from Root Node i.e R\n",
    "    'A' : ['C', 'D'], # From here successors are inserted\n",
    "    'C' : ['G'],\n",
    "    'G' : [],\n",
    "    'D' : ['H', 'I'],\n",
    "    'H' : [],\n",
    "    'I' : [],\n",
    "    'B' : ['E', 'F'],\n",
    "    'E' : [],\n",
    "    'F' : ['J'],\n",
    "    'J' : []\n",
    "}\n",
    "\n",
    "visited = []\n",
    "\n",
    "def DFS(graph, visited, node): \n",
    "    for nb in graph[node]:\n",
    "        if nb not in visited:\n",
    "            visited.append(nb)\n",
    "            DFS(graph,visited,nb)\n",
    "    \n",
    "   \n",
    "                \n",
    "visited.append('R')\n",
    "DFS(graph, visited, 'R')\n",
    "print('Depth First Search Output is: ' , visited)"
   ]
  },
  {
   "cell_type": "code",
   "execution_count": null,
   "id": "fdc1e0ca",
   "metadata": {},
   "outputs": [],
   "source": []
  }
 ],
 "metadata": {
  "kernelspec": {
   "display_name": "Python 3 (ipykernel)",
   "language": "python",
   "name": "python3"
  },
  "language_info": {
   "codemirror_mode": {
    "name": "ipython",
    "version": 3
   },
   "file_extension": ".py",
   "mimetype": "text/x-python",
   "name": "python",
   "nbconvert_exporter": "python",
   "pygments_lexer": "ipython3",
   "version": "3.9.12"
  }
 },
 "nbformat": 4,
 "nbformat_minor": 5
}
