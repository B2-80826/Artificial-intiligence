{
 "cells": [
  {
   "cell_type": "code",
   "execution_count": 7,
   "id": "2df5e823",
   "metadata": {
    "scrolled": true
   },
   "outputs": [
    {
     "name": "stdout",
     "output_type": "stream",
     "text": [
      "{'WA': ['RED', 'BLUE', 'GREEN', 'BLACK'], 'SA': ['RED', 'BLUE', 'GREEN', 'BLACK'], 'NA': ['RED', 'BLUE', 'GREEN', 'BLACK'], 'NSW': ['RED', 'BLUE', 'GREEN', 'BLACK'], 'Q': ['RED', 'BLUE', 'GREEN', 'BLACK'], 'T': ['RED', 'BLUE', 'GREEN', 'BLACK']}\n"
     ]
    }
   ],
   "source": [
    "#CSP\n",
    "regions = ['WA', 'SA', 'NA', 'NSW', 'Q', 'T']\n",
    "color = ['RED', 'BLUE', 'GREEN', 'BLACK']\n",
    "neighbours = {}\n",
    "neighbours['WA'] = ['NA', 'SA']\n",
    "neighbours['SA'] = ['WA', 'SA', 'NSW', 'Q']\n",
    "neighbours['NA'] = ['WA', 'SA', 'NSW']\n",
    "neighbours['NSW'] = ['NA', 'SA', 'Q']\n",
    "neighbours['Q'] = ['T']\n",
    "neighbours['T'] = ['Q']\n",
    "\n",
    "regions_colors = {}\n",
    "\n",
    "def validation(region, color):\n",
    "    for nb in neighbours.get(region):\n",
    "        nb_color = neighbours.get(region)\n",
    "        if(nb_color == color):\n",
    "            return False\n",
    "        return True\n",
    "    \n",
    "def color_selection(region):\n",
    "    for all in color:\n",
    "        if validation(region, color):\n",
    "            return color\n",
    "        \n",
    "def final_call():\n",
    "    for region in regions:\n",
    "        regions_colors[region] = color_selection(region)\n",
    "    print(regions_colors)\n",
    "final_call()"
   ]
  },
  {
   "cell_type": "code",
   "execution_count": null,
   "id": "4aa5fd70",
   "metadata": {},
   "outputs": [],
   "source": []
  }
 ],
 "metadata": {
  "kernelspec": {
   "display_name": "Python 3 (ipykernel)",
   "language": "python",
   "name": "python3"
  },
  "language_info": {
   "codemirror_mode": {
    "name": "ipython",
    "version": 3
   },
   "file_extension": ".py",
   "mimetype": "text/x-python",
   "name": "python",
   "nbconvert_exporter": "python",
   "pygments_lexer": "ipython3",
   "version": "3.9.12"
  }
 },
 "nbformat": 4,
 "nbformat_minor": 5
}
